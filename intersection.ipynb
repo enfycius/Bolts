{
 "cells": [
  {
   "cell_type": "code",
   "execution_count": 74,
   "metadata": {},
   "outputs": [],
   "source": [
    "import pandas as pd"
   ]
  },
  {
   "cell_type": "code",
   "execution_count": 75,
   "metadata": {},
   "outputs": [],
   "source": [
    "df = pd.read_csv(\"./file.csv\", header=None)"
   ]
  },
  {
   "cell_type": "code",
   "execution_count": 76,
   "metadata": {},
   "outputs": [],
   "source": [
    "df.rename(columns={0: 'centerX'}, inplace=True)\n",
    "df.rename(columns={1: 'centerY'}, inplace=True)\n",
    "df.rename(columns={2: 'radius'}, inplace=True)"
   ]
  },
  {
   "cell_type": "code",
   "execution_count": 77,
   "metadata": {},
   "outputs": [
    {
     "data": {
      "text/html": [
       "<div>\n",
       "<style scoped>\n",
       "    .dataframe tbody tr th:only-of-type {\n",
       "        vertical-align: middle;\n",
       "    }\n",
       "\n",
       "    .dataframe tbody tr th {\n",
       "        vertical-align: top;\n",
       "    }\n",
       "\n",
       "    .dataframe thead th {\n",
       "        text-align: right;\n",
       "    }\n",
       "</style>\n",
       "<table border=\"1\" class=\"dataframe\">\n",
       "  <thead>\n",
       "    <tr style=\"text-align: right;\">\n",
       "      <th></th>\n",
       "      <th>centerX</th>\n",
       "      <th>centerY</th>\n",
       "      <th>radius</th>\n",
       "    </tr>\n",
       "  </thead>\n",
       "  <tbody>\n",
       "    <tr>\n",
       "      <th>0</th>\n",
       "      <td>739.93</td>\n",
       "      <td>425.80</td>\n",
       "      <td>11.9090</td>\n",
       "    </tr>\n",
       "    <tr>\n",
       "      <th>1</th>\n",
       "      <td>775.53</td>\n",
       "      <td>426.53</td>\n",
       "      <td>9.9104</td>\n",
       "    </tr>\n",
       "    <tr>\n",
       "      <th>2</th>\n",
       "      <td>842.56</td>\n",
       "      <td>427.87</td>\n",
       "      <td>11.9820</td>\n",
       "    </tr>\n",
       "    <tr>\n",
       "      <th>3</th>\n",
       "      <td>883.60</td>\n",
       "      <td>428.77</td>\n",
       "      <td>10.2250</td>\n",
       "    </tr>\n",
       "    <tr>\n",
       "      <th>4</th>\n",
       "      <td>924.55</td>\n",
       "      <td>429.67</td>\n",
       "      <td>12.0320</td>\n",
       "    </tr>\n",
       "    <tr>\n",
       "      <th>...</th>\n",
       "      <td>...</td>\n",
       "      <td>...</td>\n",
       "      <td>...</td>\n",
       "    </tr>\n",
       "    <tr>\n",
       "      <th>70</th>\n",
       "      <td>1652.30</td>\n",
       "      <td>527.25</td>\n",
       "      <td>11.4740</td>\n",
       "    </tr>\n",
       "    <tr>\n",
       "      <th>71</th>\n",
       "      <td>1694.60</td>\n",
       "      <td>528.01</td>\n",
       "      <td>10.6980</td>\n",
       "    </tr>\n",
       "    <tr>\n",
       "      <th>72</th>\n",
       "      <td>1736.00</td>\n",
       "      <td>530.73</td>\n",
       "      <td>10.4980</td>\n",
       "    </tr>\n",
       "    <tr>\n",
       "      <th>73</th>\n",
       "      <td>1801.80</td>\n",
       "      <td>530.69</td>\n",
       "      <td>9.8707</td>\n",
       "    </tr>\n",
       "    <tr>\n",
       "      <th>74</th>\n",
       "      <td>1837.00</td>\n",
       "      <td>531.81</td>\n",
       "      <td>10.1130</td>\n",
       "    </tr>\n",
       "  </tbody>\n",
       "</table>\n",
       "<p>75 rows × 3 columns</p>\n",
       "</div>"
      ],
      "text/plain": [
       "    centerX  centerY   radius\n",
       "0    739.93   425.80  11.9090\n",
       "1    775.53   426.53   9.9104\n",
       "2    842.56   427.87  11.9820\n",
       "3    883.60   428.77  10.2250\n",
       "4    924.55   429.67  12.0320\n",
       "..      ...      ...      ...\n",
       "70  1652.30   527.25  11.4740\n",
       "71  1694.60   528.01  10.6980\n",
       "72  1736.00   530.73  10.4980\n",
       "73  1801.80   530.69   9.8707\n",
       "74  1837.00   531.81  10.1130\n",
       "\n",
       "[75 rows x 3 columns]"
      ]
     },
     "execution_count": 77,
     "metadata": {},
     "output_type": "execute_result"
    }
   ],
   "source": [
    "df"
   ]
  },
  {
   "cell_type": "code",
   "execution_count": 78,
   "metadata": {},
   "outputs": [],
   "source": [
    "import cv2"
   ]
  },
  {
   "cell_type": "code",
   "execution_count": 79,
   "metadata": {},
   "outputs": [],
   "source": [
    "bolt_holes_info = df"
   ]
  },
  {
   "cell_type": "code",
   "execution_count": 80,
   "metadata": {},
   "outputs": [],
   "source": [
    "# bolt_holes_info['centerX'] = cX_lst\n",
    "# bolt_holes_info['centerY'] = cY_lst\n",
    "# bolt_holes_info['radius'] = radius_lst"
   ]
  },
  {
   "cell_type": "code",
   "execution_count": 81,
   "metadata": {},
   "outputs": [],
   "source": [
    "# bolt_holes_info['sum'] = bolt_holes_info['centerX'] + bolt_holes_info['centerY']"
   ]
  },
  {
   "cell_type": "code",
   "execution_count": 82,
   "metadata": {},
   "outputs": [],
   "source": [
    "# bolt_holes_info = bolt_holes_info.sort_values(by=['sum'])"
   ]
  },
  {
   "cell_type": "code",
   "execution_count": 83,
   "metadata": {},
   "outputs": [],
   "source": [
    "# bolt_holes_info"
   ]
  },
  {
   "cell_type": "code",
   "execution_count": 84,
   "metadata": {},
   "outputs": [],
   "source": [
    "# condition = (bolt_holes_info['centerX'] > bolt_holes_info['centerX'].shift(1)) & (bolt_holes_info['centerY'] < bolt_holes_info['centerY'].shift(1))"
   ]
  },
  {
   "cell_type": "code",
   "execution_count": 85,
   "metadata": {},
   "outputs": [],
   "source": [
    "# one_row_bolts = bolt_holes_info[condition]"
   ]
  },
  {
   "cell_type": "code",
   "execution_count": 86,
   "metadata": {},
   "outputs": [],
   "source": [
    "import numpy as np"
   ]
  },
  {
   "cell_type": "code",
   "execution_count": 87,
   "metadata": {},
   "outputs": [],
   "source": [
    "# one_row_bolts = bolt_holes_info[:25].sort_values(by=['centerY'])\n",
    "# two_row_bolts = bolt_holes_info[25:50].sort_values(by=['centerX'])\n",
    "# three_row_bolts = bolt_holes_info[50:].sort_values(by=['centerX'])"
   ]
  },
  {
   "cell_type": "code",
   "execution_count": 88,
   "metadata": {},
   "outputs": [],
   "source": [
    "one_row_bolts = bolt_holes_info[:25]"
   ]
  },
  {
   "cell_type": "code",
   "execution_count": 89,
   "metadata": {},
   "outputs": [
    {
     "data": {
      "text/html": [
       "<div>\n",
       "<style scoped>\n",
       "    .dataframe tbody tr th:only-of-type {\n",
       "        vertical-align: middle;\n",
       "    }\n",
       "\n",
       "    .dataframe tbody tr th {\n",
       "        vertical-align: top;\n",
       "    }\n",
       "\n",
       "    .dataframe thead th {\n",
       "        text-align: right;\n",
       "    }\n",
       "</style>\n",
       "<table border=\"1\" class=\"dataframe\">\n",
       "  <thead>\n",
       "    <tr style=\"text-align: right;\">\n",
       "      <th></th>\n",
       "      <th>centerX</th>\n",
       "      <th>centerY</th>\n",
       "      <th>radius</th>\n",
       "    </tr>\n",
       "  </thead>\n",
       "  <tbody>\n",
       "    <tr>\n",
       "      <th>0</th>\n",
       "      <td>739.93</td>\n",
       "      <td>425.80</td>\n",
       "      <td>11.9090</td>\n",
       "    </tr>\n",
       "    <tr>\n",
       "      <th>1</th>\n",
       "      <td>775.53</td>\n",
       "      <td>426.53</td>\n",
       "      <td>9.9104</td>\n",
       "    </tr>\n",
       "    <tr>\n",
       "      <th>2</th>\n",
       "      <td>842.56</td>\n",
       "      <td>427.87</td>\n",
       "      <td>11.9820</td>\n",
       "    </tr>\n",
       "    <tr>\n",
       "      <th>3</th>\n",
       "      <td>883.60</td>\n",
       "      <td>428.77</td>\n",
       "      <td>10.2250</td>\n",
       "    </tr>\n",
       "    <tr>\n",
       "      <th>4</th>\n",
       "      <td>924.55</td>\n",
       "      <td>429.67</td>\n",
       "      <td>12.0320</td>\n",
       "    </tr>\n",
       "    <tr>\n",
       "      <th>5</th>\n",
       "      <td>964.56</td>\n",
       "      <td>430.49</td>\n",
       "      <td>10.6520</td>\n",
       "    </tr>\n",
       "    <tr>\n",
       "      <th>6</th>\n",
       "      <td>1005.40</td>\n",
       "      <td>431.52</td>\n",
       "      <td>10.3170</td>\n",
       "    </tr>\n",
       "    <tr>\n",
       "      <th>7</th>\n",
       "      <td>1087.70</td>\n",
       "      <td>433.06</td>\n",
       "      <td>10.3580</td>\n",
       "    </tr>\n",
       "    <tr>\n",
       "      <th>8</th>\n",
       "      <td>1128.50</td>\n",
       "      <td>434.00</td>\n",
       "      <td>10.6270</td>\n",
       "    </tr>\n",
       "    <tr>\n",
       "      <th>9</th>\n",
       "      <td>1169.10</td>\n",
       "      <td>434.93</td>\n",
       "      <td>10.2680</td>\n",
       "    </tr>\n",
       "    <tr>\n",
       "      <th>10</th>\n",
       "      <td>1210.10</td>\n",
       "      <td>435.55</td>\n",
       "      <td>10.5410</td>\n",
       "    </tr>\n",
       "    <tr>\n",
       "      <th>11</th>\n",
       "      <td>1250.40</td>\n",
       "      <td>436.05</td>\n",
       "      <td>10.0560</td>\n",
       "    </tr>\n",
       "    <tr>\n",
       "      <th>12</th>\n",
       "      <td>1291.00</td>\n",
       "      <td>437.96</td>\n",
       "      <td>10.8710</td>\n",
       "    </tr>\n",
       "    <tr>\n",
       "      <th>13</th>\n",
       "      <td>1331.70</td>\n",
       "      <td>438.66</td>\n",
       "      <td>10.9160</td>\n",
       "    </tr>\n",
       "    <tr>\n",
       "      <th>14</th>\n",
       "      <td>1372.00</td>\n",
       "      <td>439.05</td>\n",
       "      <td>10.6250</td>\n",
       "    </tr>\n",
       "    <tr>\n",
       "      <th>15</th>\n",
       "      <td>1412.50</td>\n",
       "      <td>440.60</td>\n",
       "      <td>10.6500</td>\n",
       "    </tr>\n",
       "    <tr>\n",
       "      <th>16</th>\n",
       "      <td>1452.90</td>\n",
       "      <td>441.79</td>\n",
       "      <td>11.6600</td>\n",
       "    </tr>\n",
       "    <tr>\n",
       "      <th>17</th>\n",
       "      <td>1493.00</td>\n",
       "      <td>442.53</td>\n",
       "      <td>11.5880</td>\n",
       "    </tr>\n",
       "    <tr>\n",
       "      <th>18</th>\n",
       "      <td>1574.00</td>\n",
       "      <td>444.72</td>\n",
       "      <td>10.5320</td>\n",
       "    </tr>\n",
       "    <tr>\n",
       "      <th>19</th>\n",
       "      <td>1614.60</td>\n",
       "      <td>445.59</td>\n",
       "      <td>11.2130</td>\n",
       "    </tr>\n",
       "    <tr>\n",
       "      <th>20</th>\n",
       "      <td>1654.50</td>\n",
       "      <td>446.46</td>\n",
       "      <td>11.2400</td>\n",
       "    </tr>\n",
       "    <tr>\n",
       "      <th>21</th>\n",
       "      <td>1696.50</td>\n",
       "      <td>447.14</td>\n",
       "      <td>11.2840</td>\n",
       "    </tr>\n",
       "    <tr>\n",
       "      <th>22</th>\n",
       "      <td>1736.50</td>\n",
       "      <td>448.07</td>\n",
       "      <td>11.0340</td>\n",
       "    </tr>\n",
       "    <tr>\n",
       "      <th>23</th>\n",
       "      <td>1804.30</td>\n",
       "      <td>449.58</td>\n",
       "      <td>10.9680</td>\n",
       "    </tr>\n",
       "    <tr>\n",
       "      <th>24</th>\n",
       "      <td>1838.90</td>\n",
       "      <td>450.24</td>\n",
       "      <td>11.4370</td>\n",
       "    </tr>\n",
       "  </tbody>\n",
       "</table>\n",
       "</div>"
      ],
      "text/plain": [
       "    centerX  centerY   radius\n",
       "0    739.93   425.80  11.9090\n",
       "1    775.53   426.53   9.9104\n",
       "2    842.56   427.87  11.9820\n",
       "3    883.60   428.77  10.2250\n",
       "4    924.55   429.67  12.0320\n",
       "5    964.56   430.49  10.6520\n",
       "6   1005.40   431.52  10.3170\n",
       "7   1087.70   433.06  10.3580\n",
       "8   1128.50   434.00  10.6270\n",
       "9   1169.10   434.93  10.2680\n",
       "10  1210.10   435.55  10.5410\n",
       "11  1250.40   436.05  10.0560\n",
       "12  1291.00   437.96  10.8710\n",
       "13  1331.70   438.66  10.9160\n",
       "14  1372.00   439.05  10.6250\n",
       "15  1412.50   440.60  10.6500\n",
       "16  1452.90   441.79  11.6600\n",
       "17  1493.00   442.53  11.5880\n",
       "18  1574.00   444.72  10.5320\n",
       "19  1614.60   445.59  11.2130\n",
       "20  1654.50   446.46  11.2400\n",
       "21  1696.50   447.14  11.2840\n",
       "22  1736.50   448.07  11.0340\n",
       "23  1804.30   449.58  10.9680\n",
       "24  1838.90   450.24  11.4370"
      ]
     },
     "execution_count": 89,
     "metadata": {},
     "output_type": "execute_result"
    }
   ],
   "source": [
    "one_row_bolts"
   ]
  },
  {
   "cell_type": "code",
   "execution_count": 90,
   "metadata": {},
   "outputs": [],
   "source": [
    "radius = bolt_holes_info['radius'].mean()"
   ]
  },
  {
   "cell_type": "code",
   "execution_count": 91,
   "metadata": {},
   "outputs": [
    {
     "data": {
      "text/plain": [
       "11.192758666666668"
      ]
     },
     "execution_count": 91,
     "metadata": {},
     "output_type": "execute_result"
    }
   ],
   "source": [
    "radius"
   ]
  },
  {
   "cell_type": "code",
   "execution_count": 92,
   "metadata": {},
   "outputs": [],
   "source": [
    "import matplotlib.pyplot as plt\n",
    "import cv2"
   ]
  },
  {
   "cell_type": "code",
   "execution_count": 93,
   "metadata": {},
   "outputs": [],
   "source": [
    "img = np.zeros((2000, 2000, 3), np.uint8)"
   ]
  },
  {
   "cell_type": "code",
   "execution_count": 94,
   "metadata": {},
   "outputs": [],
   "source": [
    "for i in range(len(one_row_bolts)):\n",
    "    centerX = int(one_row_bolts['centerX'].iloc[i])\n",
    "    centerY = int(one_row_bolts['centerY'].iloc[i])\n",
    "    radius = int(radius)\n",
    "    \n",
    "    img = cv2.circle(img, (centerX, centerY), radius, (255, 255, 0), 3)\n",
    "    "
   ]
  },
  {
   "cell_type": "code",
   "execution_count": 95,
   "metadata": {},
   "outputs": [
    {
     "data": {
      "image/png": "[encoded data removed]",
      "text/plain": [
       "<Figure size 640x480 with 1 Axes>"
      ]
     },
     "metadata": {},
     "output_type": "display_data"
    }
   ],
   "source": [
    "plt.imshow(img)\n",
    "plt.show()"
   ]
  },
  {
   "cell_type": "code",
   "execution_count": 96,
   "metadata": {},
   "outputs": [
    {
     "name": "stdout",
     "output_type": "stream",
     "text": [
      "Requirement already satisfied: shapely in /Users/enfycius/miniconda3/lib/python3.10/site-packages (2.0.2)\n",
      "Requirement already satisfied: numpy>=1.14 in /Users/enfycius/miniconda3/lib/python3.10/site-packages (from shapely) (1.24.3)\n"
     ]
    }
   ],
   "source": [
    "!pip3 install shapely"
   ]
  },
  {
   "cell_type": "code",
   "execution_count": 97,
   "metadata": {},
   "outputs": [],
   "source": [
    "from shapely.geometry import LineString\n",
    "from shapely.geometry import Point"
   ]
  },
  {
   "cell_type": "code",
   "execution_count": 98,
   "metadata": {},
   "outputs": [],
   "source": [
    "x1 = one_row_bolts['centerX'].iloc[0]\n",
    "y1 = one_row_bolts['centerY'].iloc[0]"
   ]
  },
  {
   "cell_type": "code",
   "execution_count": 99,
   "metadata": {},
   "outputs": [],
   "source": [
    "x2 = one_row_bolts['centerX'].iloc[-1]\n",
    "y2 = one_row_bolts['centerY'].iloc[-1]"
   ]
  },
  {
   "cell_type": "code",
   "execution_count": 100,
   "metadata": {},
   "outputs": [],
   "source": [
    "line = LineString([(x1, y1), (x2, y2)])"
   ]
  },
  {
   "cell_type": "code",
   "execution_count": 101,
   "metadata": {},
   "outputs": [],
   "source": [
    "p1 = Point(x1, y1)"
   ]
  },
  {
   "cell_type": "code",
   "execution_count": 102,
   "metadata": {},
   "outputs": [],
   "source": [
    "c1 = p1.buffer(radius).boundary"
   ]
  },
  {
   "cell_type": "code",
   "execution_count": 103,
   "metadata": {},
   "outputs": [],
   "source": [
    "i = c1.intersection(line)"
   ]
  },
  {
   "cell_type": "code",
   "execution_count": 104,
   "metadata": {},
   "outputs": [
    {
     "data": {
      "text/plain": [
       "2"
      ]
     },
     "execution_count": 104,
     "metadata": {},
     "output_type": "execute_result"
    }
   ],
   "source": [
    "len(i.xy)"
   ]
  },
  {
   "cell_type": "code",
   "execution_count": 105,
   "metadata": {},
   "outputs": [],
   "source": [
    "found_x = int(i.xy[0][0])"
   ]
  },
  {
   "cell_type": "code",
   "execution_count": 106,
   "metadata": {},
   "outputs": [],
   "source": [
    "found_y = int(i.xy[1][0])"
   ]
  },
  {
   "cell_type": "code",
   "execution_count": 107,
   "metadata": {},
   "outputs": [],
   "source": [
    "img = cv2.circle(img, (found_x, found_y), 1, (255, 0, 0), 3)"
   ]
  },
  {
   "cell_type": "code",
   "execution_count": 108,
   "metadata": {},
   "outputs": [
    {
     "data": {
      "image/png": "[encoded data removed]",
      "text/plain": [
       "<Figure size 640x480 with 1 Axes>"
      ]
     },
     "metadata": {},
     "output_type": "display_data"
    }
   ],
   "source": [
    "plt.imshow(img)\n",
    "plt.xlim(500, 800)\n",
    "plt.ylim(250, 500)\n",
    "plt.show()"
   ]
  },
  {
   "cell_type": "code",
   "execution_count": 109,
   "metadata": {},
   "outputs": [],
   "source": [
    "img = np.zeros((2000, 2000, 3), np.uint8)"
   ]
  },
  {
   "cell_type": "code",
   "execution_count": 110,
   "metadata": {},
   "outputs": [],
   "source": [
    "for i in range(len(bolt_holes_info)):\n",
    "    centerX = int(bolt_holes_info['centerX'].iloc[i])\n",
    "    centerY = int(bolt_holes_info['centerY'].iloc[i])\n",
    "    radius = int(radius)\n",
    "    \n",
    "    img = cv2.circle(img, (centerX, centerY), radius, (255, 255, 255), 3)"
   ]
  },
  {
   "cell_type": "code",
   "execution_count": 141,
   "metadata": {},
   "outputs": [],
   "source": [
    "found_x1_l = []\n",
    "found_y1_l = []\n",
    "\n",
    "found_x2_l = []\n",
    "found_y2_l = []"
   ]
  },
  {
   "cell_type": "code",
   "execution_count": 142,
   "metadata": {},
   "outputs": [
    {
     "data": {
      "text/html": [
       "<div>\n",
       "<style scoped>\n",
       "    .dataframe tbody tr th:only-of-type {\n",
       "        vertical-align: middle;\n",
       "    }\n",
       "\n",
       "    .dataframe tbody tr th {\n",
       "        vertical-align: top;\n",
       "    }\n",
       "\n",
       "    .dataframe thead th {\n",
       "        text-align: right;\n",
       "    }\n",
       "</style>\n",
       "<table border=\"1\" class=\"dataframe\">\n",
       "  <thead>\n",
       "    <tr style=\"text-align: right;\">\n",
       "      <th></th>\n",
       "      <th>centerX</th>\n",
       "      <th>centerY</th>\n",
       "      <th>radius</th>\n",
       "    </tr>\n",
       "  </thead>\n",
       "  <tbody>\n",
       "    <tr>\n",
       "      <th>0</th>\n",
       "      <td>739.93</td>\n",
       "      <td>425.80</td>\n",
       "      <td>11.9090</td>\n",
       "    </tr>\n",
       "    <tr>\n",
       "      <th>1</th>\n",
       "      <td>775.53</td>\n",
       "      <td>426.53</td>\n",
       "      <td>9.9104</td>\n",
       "    </tr>\n",
       "    <tr>\n",
       "      <th>2</th>\n",
       "      <td>842.56</td>\n",
       "      <td>427.87</td>\n",
       "      <td>11.9820</td>\n",
       "    </tr>\n",
       "    <tr>\n",
       "      <th>3</th>\n",
       "      <td>883.60</td>\n",
       "      <td>428.77</td>\n",
       "      <td>10.2250</td>\n",
       "    </tr>\n",
       "    <tr>\n",
       "      <th>4</th>\n",
       "      <td>924.55</td>\n",
       "      <td>429.67</td>\n",
       "      <td>12.0320</td>\n",
       "    </tr>\n",
       "    <tr>\n",
       "      <th>...</th>\n",
       "      <td>...</td>\n",
       "      <td>...</td>\n",
       "      <td>...</td>\n",
       "    </tr>\n",
       "    <tr>\n",
       "      <th>70</th>\n",
       "      <td>1652.30</td>\n",
       "      <td>527.25</td>\n",
       "      <td>11.4740</td>\n",
       "    </tr>\n",
       "    <tr>\n",
       "      <th>71</th>\n",
       "      <td>1694.60</td>\n",
       "      <td>528.01</td>\n",
       "      <td>10.6980</td>\n",
       "    </tr>\n",
       "    <tr>\n",
       "      <th>72</th>\n",
       "      <td>1736.00</td>\n",
       "      <td>530.73</td>\n",
       "      <td>10.4980</td>\n",
       "    </tr>\n",
       "    <tr>\n",
       "      <th>73</th>\n",
       "      <td>1801.80</td>\n",
       "      <td>530.69</td>\n",
       "      <td>9.8707</td>\n",
       "    </tr>\n",
       "    <tr>\n",
       "      <th>74</th>\n",
       "      <td>1837.00</td>\n",
       "      <td>531.81</td>\n",
       "      <td>10.1130</td>\n",
       "    </tr>\n",
       "  </tbody>\n",
       "</table>\n",
       "<p>75 rows × 3 columns</p>\n",
       "</div>"
      ],
      "text/plain": [
       "    centerX  centerY   radius\n",
       "0    739.93   425.80  11.9090\n",
       "1    775.53   426.53   9.9104\n",
       "2    842.56   427.87  11.9820\n",
       "3    883.60   428.77  10.2250\n",
       "4    924.55   429.67  12.0320\n",
       "..      ...      ...      ...\n",
       "70  1652.30   527.25  11.4740\n",
       "71  1694.60   528.01  10.6980\n",
       "72  1736.00   530.73  10.4980\n",
       "73  1801.80   530.69   9.8707\n",
       "74  1837.00   531.81  10.1130\n",
       "\n",
       "[75 rows x 3 columns]"
      ]
     },
     "execution_count": 142,
     "metadata": {},
     "output_type": "execute_result"
    }
   ],
   "source": [
    "bolt_holes_info"
   ]
  },
  {
   "cell_type": "code",
   "execution_count": 143,
   "metadata": {},
   "outputs": [],
   "source": [
    "for i in range(0, len(bolt_holes_info) // 25):\n",
    "    for j in range(0 + (len(bolt_holes_info) // 3 * i), len(bolt_holes_info) // 3 * (i + 1) - 1):    \n",
    "        x1 = bolt_holes_info['centerX'].iloc[j]\n",
    "        y1 = bolt_holes_info['centerY'].iloc[j]\n",
    "\n",
    "        x2 = bolt_holes_info['centerX'].iloc[j + 1]\n",
    "        y2 = bolt_holes_info['centerY'].iloc[j + 1]\n",
    "        \n",
    "        p1 = Point(x1, y1)\n",
    "        p2 = Point(x2, y2)\n",
    "        \n",
    "        c1 = p1.buffer(radius).boundary\n",
    "        c2 = p2.buffer(radius).boundary\n",
    "\n",
    "        line = LineString([(x1, y1), (x2, y2)])\n",
    "\n",
    "        i1 = c1.intersection(line)\n",
    "        i2 = c2.intersection(line)\n",
    "\n",
    "        found_x1 = int(i1.xy[0][0])\n",
    "        found_y1 = int(i1.xy[1][0])\n",
    "\n",
    "        found_x1_l.append(found_x1)\n",
    "        found_y1_l.append(found_y1)\n",
    "\n",
    "        found_x2 = int(i2.xy[0][0])\n",
    "        found_y2 = int(i2.xy[1][0])\n",
    "\n",
    "        found_x2_l.append(found_x2)\n",
    "        found_y2_l.append(found_y2)\n",
    "\n",
    "        img = cv2.circle(img, (found_x1, found_y1), 2, (0, 255, 0), 3)\n",
    "        img = cv2.circle(img, (found_x2, found_y2), 2, (255, 0, 0), 3)    "
   ]
  },
  {
   "cell_type": "code",
   "execution_count": 144,
   "metadata": {},
   "outputs": [
    {
     "data": {
      "image/png": "[encoded data removed]",
      "text/plain": [
       "<Figure size 640x480 with 1 Axes>"
      ]
     },
     "metadata": {},
     "output_type": "display_data"
    }
   ],
   "source": [
    "plt.imshow(img)\n",
    "plt.xlim(500, 2000)\n",
    "plt.ylim(250, 750)\n",
    "plt.show()"
   ]
  },
  {
   "cell_type": "code",
   "execution_count": 145,
   "metadata": {},
   "outputs": [
    {
     "data": {
      "text/plain": [
       "72"
      ]
     },
     "execution_count": 145,
     "metadata": {},
     "output_type": "execute_result"
    }
   ],
   "source": [
    "len(found_x1_l)"
   ]
  },
  {
   "cell_type": "code",
   "execution_count": 146,
   "metadata": {},
   "outputs": [
    {
     "data": {
      "text/plain": [
       "72"
      ]
     },
     "execution_count": 146,
     "metadata": {},
     "output_type": "execute_result"
    }
   ],
   "source": [
    "len(found_x2_l)"
   ]
  },
  {
   "cell_type": "code",
   "execution_count": 147,
   "metadata": {},
   "outputs": [],
   "source": [
    "found_coordinates = pd.DataFrame(columns = ['found_x1', 'found_y1', 'found_x2', 'found_y2'])"
   ]
  },
  {
   "cell_type": "code",
   "execution_count": 148,
   "metadata": {},
   "outputs": [],
   "source": [
    "found_coordinates['found_x1'] = found_x1_l\n",
    "found_coordinates['found_y1'] = found_y1_l\n",
    "\n",
    "found_coordinates['found_x2'] = found_x2_l\n",
    "found_coordinates['found_y2'] = found_y2_l"
   ]
  },
  {
   "cell_type": "code",
   "execution_count": 149,
   "metadata": {},
   "outputs": [
    {
     "data": {
      "text/html": [
       "<div>\n",
       "<style scoped>\n",
       "    .dataframe tbody tr th:only-of-type {\n",
       "        vertical-align: middle;\n",
       "    }\n",
       "\n",
       "    .dataframe tbody tr th {\n",
       "        vertical-align: top;\n",
       "    }\n",
       "\n",
       "    .dataframe thead th {\n",
       "        text-align: right;\n",
       "    }\n",
       "</style>\n",
       "<table border=\"1\" class=\"dataframe\">\n",
       "  <thead>\n",
       "    <tr style=\"text-align: right;\">\n",
       "      <th></th>\n",
       "      <th>found_x1</th>\n",
       "      <th>found_y1</th>\n",
       "      <th>found_x2</th>\n",
       "      <th>found_y2</th>\n",
       "    </tr>\n",
       "  </thead>\n",
       "  <tbody>\n",
       "    <tr>\n",
       "      <th>0</th>\n",
       "      <td>750</td>\n",
       "      <td>426</td>\n",
       "      <td>764</td>\n",
       "      <td>426</td>\n",
       "    </tr>\n",
       "    <tr>\n",
       "      <th>1</th>\n",
       "      <td>786</td>\n",
       "      <td>426</td>\n",
       "      <td>831</td>\n",
       "      <td>427</td>\n",
       "    </tr>\n",
       "    <tr>\n",
       "      <th>2</th>\n",
       "      <td>853</td>\n",
       "      <td>428</td>\n",
       "      <td>872</td>\n",
       "      <td>428</td>\n",
       "    </tr>\n",
       "    <tr>\n",
       "      <th>3</th>\n",
       "      <td>894</td>\n",
       "      <td>429</td>\n",
       "      <td>913</td>\n",
       "      <td>429</td>\n",
       "    </tr>\n",
       "    <tr>\n",
       "      <th>4</th>\n",
       "      <td>935</td>\n",
       "      <td>429</td>\n",
       "      <td>953</td>\n",
       "      <td>430</td>\n",
       "    </tr>\n",
       "    <tr>\n",
       "      <th>...</th>\n",
       "      <td>...</td>\n",
       "      <td>...</td>\n",
       "      <td>...</td>\n",
       "      <td>...</td>\n",
       "    </tr>\n",
       "    <tr>\n",
       "      <th>67</th>\n",
       "      <td>1623</td>\n",
       "      <td>527</td>\n",
       "      <td>1641</td>\n",
       "      <td>527</td>\n",
       "    </tr>\n",
       "    <tr>\n",
       "      <th>68</th>\n",
       "      <td>1663</td>\n",
       "      <td>527</td>\n",
       "      <td>1683</td>\n",
       "      <td>527</td>\n",
       "    </tr>\n",
       "    <tr>\n",
       "      <th>69</th>\n",
       "      <td>1705</td>\n",
       "      <td>528</td>\n",
       "      <td>1725</td>\n",
       "      <td>530</td>\n",
       "    </tr>\n",
       "    <tr>\n",
       "      <th>70</th>\n",
       "      <td>1746</td>\n",
       "      <td>530</td>\n",
       "      <td>1790</td>\n",
       "      <td>530</td>\n",
       "    </tr>\n",
       "    <tr>\n",
       "      <th>71</th>\n",
       "      <td>1812</td>\n",
       "      <td>531</td>\n",
       "      <td>1826</td>\n",
       "      <td>531</td>\n",
       "    </tr>\n",
       "  </tbody>\n",
       "</table>\n",
       "<p>72 rows × 4 columns</p>\n",
       "</div>"
      ],
      "text/plain": [
       "    found_x1  found_y1  found_x2  found_y2\n",
       "0        750       426       764       426\n",
       "1        786       426       831       427\n",
       "2        853       428       872       428\n",
       "3        894       429       913       429\n",
       "4        935       429       953       430\n",
       "..       ...       ...       ...       ...\n",
       "67      1623       527      1641       527\n",
       "68      1663       527      1683       527\n",
       "69      1705       528      1725       530\n",
       "70      1746       530      1790       530\n",
       "71      1812       531      1826       531\n",
       "\n",
       "[72 rows x 4 columns]"
      ]
     },
     "execution_count": 149,
     "metadata": {},
     "output_type": "execute_result"
    }
   ],
   "source": [
    "found_coordinates"
   ]
  },
  {
   "cell_type": "code",
   "execution_count": 150,
   "metadata": {},
   "outputs": [],
   "source": [
    "found_coordinates.to_csv(\"./found_coordinates.csv\")"
   ]
  }
 ],
 "metadata": {
  "kernelspec": {
   "display_name": "BASE",
   "language": "python",
   "name": "base"
  },
  "language_info": {
   "codemirror_mode": {
    "name": "ipython",
    "version": 3
   },
   "file_extension": ".py",
   "mimetype": "text/x-python",
   "name": "python",
   "nbconvert_exporter": "python",
   "pygments_lexer": "ipython3",
   "version": "3.10.10"
  },
  "orig_nbformat": 4
 },
 "nbformat": 4,
 "nbformat_minor": 2
}
