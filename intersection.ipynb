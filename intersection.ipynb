{
 "cells": [
  {
   "cell_type": "code",
   "execution_count": 336,
   "metadata": {},
   "outputs": [],
   "source": [
    "import pandas as pd"
   ]
  },
  {
   "cell_type": "code",
   "execution_count": 337,
   "metadata": {},
   "outputs": [],
   "source": [
    "path = \"./data\""
   ]
  },
  {
   "cell_type": "code",
   "execution_count": 338,
   "metadata": {},
   "outputs": [],
   "source": [
    "df = pd.read_csv(path + '/' + \"./file.csv\", header=None)"
   ]
  },
  {
   "cell_type": "code",
   "execution_count": 339,
   "metadata": {},
   "outputs": [],
   "source": [
    "df.rename(columns={0: 'centerX'}, inplace=True)\n",
    "df.rename(columns={1: 'centerY'}, inplace=True)\n",
    "df.rename(columns={2: 'radius'}, inplace=True)"
   ]
  },
  {
   "cell_type": "code",
   "execution_count": 340,
   "metadata": {},
   "outputs": [
    {
     "data": {
      "text/html": [
       "<div>\n",
       "<style scoped>\n",
       "    .dataframe tbody tr th:only-of-type {\n",
       "        vertical-align: middle;\n",
       "    }\n",
       "\n",
       "    .dataframe tbody tr th {\n",
       "        vertical-align: top;\n",
       "    }\n",
       "\n",
       "    .dataframe thead th {\n",
       "        text-align: right;\n",
       "    }\n",
       "</style>\n",
       "<table border=\"1\" class=\"dataframe\">\n",
       "  <thead>\n",
       "    <tr style=\"text-align: right;\">\n",
       "      <th></th>\n",
       "      <th>centerX</th>\n",
       "      <th>centerY</th>\n",
       "      <th>radius</th>\n",
       "    </tr>\n",
       "  </thead>\n",
       "  <tbody>\n",
       "    <tr>\n",
       "      <th>0</th>\n",
       "      <td>654.52</td>\n",
       "      <td>592.76</td>\n",
       "      <td>11.920</td>\n",
       "    </tr>\n",
       "    <tr>\n",
       "      <th>1</th>\n",
       "      <td>695.99</td>\n",
       "      <td>577.47</td>\n",
       "      <td>13.069</td>\n",
       "    </tr>\n",
       "    <tr>\n",
       "      <th>2</th>\n",
       "      <td>771.97</td>\n",
       "      <td>549.48</td>\n",
       "      <td>12.475</td>\n",
       "    </tr>\n",
       "    <tr>\n",
       "      <th>3</th>\n",
       "      <td>816.54</td>\n",
       "      <td>532.59</td>\n",
       "      <td>12.953</td>\n",
       "    </tr>\n",
       "    <tr>\n",
       "      <th>4</th>\n",
       "      <td>861.12</td>\n",
       "      <td>516.34</td>\n",
       "      <td>12.026</td>\n",
       "    </tr>\n",
       "    <tr>\n",
       "      <th>...</th>\n",
       "      <td>...</td>\n",
       "      <td>...</td>\n",
       "      <td>...</td>\n",
       "    </tr>\n",
       "    <tr>\n",
       "      <th>70</th>\n",
       "      <td>1625.90</td>\n",
       "      <td>323.87</td>\n",
       "      <td>12.715</td>\n",
       "    </tr>\n",
       "    <tr>\n",
       "      <th>71</th>\n",
       "      <td>1662.60</td>\n",
       "      <td>309.70</td>\n",
       "      <td>12.007</td>\n",
       "    </tr>\n",
       "    <tr>\n",
       "      <th>72</th>\n",
       "      <td>1700.70</td>\n",
       "      <td>295.31</td>\n",
       "      <td>11.782</td>\n",
       "    </tr>\n",
       "    <tr>\n",
       "      <th>73</th>\n",
       "      <td>1760.80</td>\n",
       "      <td>271.84</td>\n",
       "      <td>10.851</td>\n",
       "    </tr>\n",
       "    <tr>\n",
       "      <th>74</th>\n",
       "      <td>1792.50</td>\n",
       "      <td>259.39</td>\n",
       "      <td>10.818</td>\n",
       "    </tr>\n",
       "  </tbody>\n",
       "</table>\n",
       "<p>75 rows × 3 columns</p>\n",
       "</div>"
      ],
      "text/plain": [
       "    centerX  centerY  radius\n",
       "0    654.52   592.76  11.920\n",
       "1    695.99   577.47  13.069\n",
       "2    771.97   549.48  12.475\n",
       "3    816.54   532.59  12.953\n",
       "4    861.12   516.34  12.026\n",
       "..      ...      ...     ...\n",
       "70  1625.90   323.87  12.715\n",
       "71  1662.60   309.70  12.007\n",
       "72  1700.70   295.31  11.782\n",
       "73  1760.80   271.84  10.851\n",
       "74  1792.50   259.39  10.818\n",
       "\n",
       "[75 rows x 3 columns]"
      ]
     },
     "execution_count": 340,
     "metadata": {},
     "output_type": "execute_result"
    }
   ],
   "source": [
    "df"
   ]
  },
  {
   "cell_type": "code",
   "execution_count": 341,
   "metadata": {},
   "outputs": [],
   "source": [
    "import cv2"
   ]
  },
  {
   "cell_type": "code",
   "execution_count": 342,
   "metadata": {},
   "outputs": [],
   "source": [
    "bolt_holes_info = df"
   ]
  },
  {
   "cell_type": "code",
   "execution_count": 343,
   "metadata": {},
   "outputs": [],
   "source": [
    "# bolt_holes_info['centerX'] = cX_lst\n",
    "# bolt_holes_info['centerY'] = cY_lst\n",
    "# bolt_holes_info['radius'] = radius_lst"
   ]
  },
  {
   "cell_type": "code",
   "execution_count": 344,
   "metadata": {},
   "outputs": [],
   "source": [
    "# bolt_holes_info['sum'] = bolt_holes_info['centerX'] + bolt_holes_info['centerY']"
   ]
  },
  {
   "cell_type": "code",
   "execution_count": 345,
   "metadata": {},
   "outputs": [],
   "source": [
    "# bolt_holes_info = bolt_holes_info.sort_values(by=['sum'])"
   ]
  },
  {
   "cell_type": "code",
   "execution_count": 346,
   "metadata": {},
   "outputs": [],
   "source": [
    "# bolt_holes_info"
   ]
  },
  {
   "cell_type": "code",
   "execution_count": 347,
   "metadata": {},
   "outputs": [],
   "source": [
    "# condition = (bolt_holes_info['centerX'] > bolt_holes_info['centerX'].shift(1)) & (bolt_holes_info['centerY'] < bolt_holes_info['centerY'].shift(1))"
   ]
  },
  {
   "cell_type": "code",
   "execution_count": 348,
   "metadata": {},
   "outputs": [],
   "source": [
    "# one_row_bolts = bolt_holes_info[condition]"
   ]
  },
  {
   "cell_type": "code",
   "execution_count": 349,
   "metadata": {},
   "outputs": [],
   "source": [
    "import numpy as np"
   ]
  },
  {
   "cell_type": "code",
   "execution_count": 350,
   "metadata": {},
   "outputs": [],
   "source": [
    "# one_row_bolts = bolt_holes_info[:25].sort_values(by=['centerY'])\n",
    "# two_row_bolts = bolt_holes_info[25:50].sort_values(by=['centerX'])\n",
    "# three_row_bolts = bolt_holes_info[50:].sort_values(by=['centerX'])"
   ]
  },
  {
   "cell_type": "code",
   "execution_count": 351,
   "metadata": {},
   "outputs": [],
   "source": [
    "one_row_bolts = bolt_holes_info[:25]"
   ]
  },
  {
   "cell_type": "code",
   "execution_count": 352,
   "metadata": {},
   "outputs": [
    {
     "data": {
      "text/html": [
       "<div>\n",
       "<style scoped>\n",
       "    .dataframe tbody tr th:only-of-type {\n",
       "        vertical-align: middle;\n",
       "    }\n",
       "\n",
       "    .dataframe tbody tr th {\n",
       "        vertical-align: top;\n",
       "    }\n",
       "\n",
       "    .dataframe thead th {\n",
       "        text-align: right;\n",
       "    }\n",
       "</style>\n",
       "<table border=\"1\" class=\"dataframe\">\n",
       "  <thead>\n",
       "    <tr style=\"text-align: right;\">\n",
       "      <th></th>\n",
       "      <th>centerX</th>\n",
       "      <th>centerY</th>\n",
       "      <th>radius</th>\n",
       "    </tr>\n",
       "  </thead>\n",
       "  <tbody>\n",
       "    <tr>\n",
       "      <th>0</th>\n",
       "      <td>654.52</td>\n",
       "      <td>592.76</td>\n",
       "      <td>11.920</td>\n",
       "    </tr>\n",
       "    <tr>\n",
       "      <th>1</th>\n",
       "      <td>695.99</td>\n",
       "      <td>577.47</td>\n",
       "      <td>13.069</td>\n",
       "    </tr>\n",
       "    <tr>\n",
       "      <th>2</th>\n",
       "      <td>771.97</td>\n",
       "      <td>549.48</td>\n",
       "      <td>12.475</td>\n",
       "    </tr>\n",
       "    <tr>\n",
       "      <th>3</th>\n",
       "      <td>816.54</td>\n",
       "      <td>532.59</td>\n",
       "      <td>12.953</td>\n",
       "    </tr>\n",
       "    <tr>\n",
       "      <th>4</th>\n",
       "      <td>861.12</td>\n",
       "      <td>516.34</td>\n",
       "      <td>12.026</td>\n",
       "    </tr>\n",
       "    <tr>\n",
       "      <th>5</th>\n",
       "      <td>905.31</td>\n",
       "      <td>499.67</td>\n",
       "      <td>12.598</td>\n",
       "    </tr>\n",
       "    <tr>\n",
       "      <th>6</th>\n",
       "      <td>948.56</td>\n",
       "      <td>483.45</td>\n",
       "      <td>11.385</td>\n",
       "    </tr>\n",
       "    <tr>\n",
       "      <th>7</th>\n",
       "      <td>1036.10</td>\n",
       "      <td>451.06</td>\n",
       "      <td>11.261</td>\n",
       "    </tr>\n",
       "    <tr>\n",
       "      <th>8</th>\n",
       "      <td>1078.50</td>\n",
       "      <td>435.04</td>\n",
       "      <td>10.290</td>\n",
       "    </tr>\n",
       "    <tr>\n",
       "      <th>9</th>\n",
       "      <td>1120.60</td>\n",
       "      <td>419.34</td>\n",
       "      <td>10.777</td>\n",
       "    </tr>\n",
       "    <tr>\n",
       "      <th>10</th>\n",
       "      <td>1162.10</td>\n",
       "      <td>403.84</td>\n",
       "      <td>11.169</td>\n",
       "    </tr>\n",
       "    <tr>\n",
       "      <th>11</th>\n",
       "      <td>1203.80</td>\n",
       "      <td>388.67</td>\n",
       "      <td>11.351</td>\n",
       "    </tr>\n",
       "    <tr>\n",
       "      <th>12</th>\n",
       "      <td>1244.40</td>\n",
       "      <td>374.00</td>\n",
       "      <td>11.249</td>\n",
       "    </tr>\n",
       "    <tr>\n",
       "      <th>13</th>\n",
       "      <td>1284.80</td>\n",
       "      <td>358.62</td>\n",
       "      <td>11.825</td>\n",
       "    </tr>\n",
       "    <tr>\n",
       "      <th>14</th>\n",
       "      <td>1324.60</td>\n",
       "      <td>344.30</td>\n",
       "      <td>10.460</td>\n",
       "    </tr>\n",
       "    <tr>\n",
       "      <th>15</th>\n",
       "      <td>1363.90</td>\n",
       "      <td>329.69</td>\n",
       "      <td>10.990</td>\n",
       "    </tr>\n",
       "    <tr>\n",
       "      <th>16</th>\n",
       "      <td>1403.10</td>\n",
       "      <td>315.05</td>\n",
       "      <td>11.691</td>\n",
       "    </tr>\n",
       "    <tr>\n",
       "      <th>17</th>\n",
       "      <td>1441.70</td>\n",
       "      <td>300.11</td>\n",
       "      <td>11.718</td>\n",
       "    </tr>\n",
       "    <tr>\n",
       "      <th>18</th>\n",
       "      <td>1519.30</td>\n",
       "      <td>272.30</td>\n",
       "      <td>12.152</td>\n",
       "    </tr>\n",
       "    <tr>\n",
       "      <th>19</th>\n",
       "      <td>1557.40</td>\n",
       "      <td>258.15</td>\n",
       "      <td>12.120</td>\n",
       "    </tr>\n",
       "    <tr>\n",
       "      <th>20</th>\n",
       "      <td>1595.00</td>\n",
       "      <td>243.81</td>\n",
       "      <td>11.648</td>\n",
       "    </tr>\n",
       "    <tr>\n",
       "      <th>21</th>\n",
       "      <td>1631.70</td>\n",
       "      <td>230.03</td>\n",
       "      <td>12.083</td>\n",
       "    </tr>\n",
       "    <tr>\n",
       "      <th>22</th>\n",
       "      <td>1669.60</td>\n",
       "      <td>216.54</td>\n",
       "      <td>12.371</td>\n",
       "    </tr>\n",
       "    <tr>\n",
       "      <th>23</th>\n",
       "      <td>1730.40</td>\n",
       "      <td>193.32</td>\n",
       "      <td>12.455</td>\n",
       "    </tr>\n",
       "    <tr>\n",
       "      <th>24</th>\n",
       "      <td>1762.90</td>\n",
       "      <td>180.86</td>\n",
       "      <td>12.483</td>\n",
       "    </tr>\n",
       "  </tbody>\n",
       "</table>\n",
       "</div>"
      ],
      "text/plain": [
       "    centerX  centerY  radius\n",
       "0    654.52   592.76  11.920\n",
       "1    695.99   577.47  13.069\n",
       "2    771.97   549.48  12.475\n",
       "3    816.54   532.59  12.953\n",
       "4    861.12   516.34  12.026\n",
       "5    905.31   499.67  12.598\n",
       "6    948.56   483.45  11.385\n",
       "7   1036.10   451.06  11.261\n",
       "8   1078.50   435.04  10.290\n",
       "9   1120.60   419.34  10.777\n",
       "10  1162.10   403.84  11.169\n",
       "11  1203.80   388.67  11.351\n",
       "12  1244.40   374.00  11.249\n",
       "13  1284.80   358.62  11.825\n",
       "14  1324.60   344.30  10.460\n",
       "15  1363.90   329.69  10.990\n",
       "16  1403.10   315.05  11.691\n",
       "17  1441.70   300.11  11.718\n",
       "18  1519.30   272.30  12.152\n",
       "19  1557.40   258.15  12.120\n",
       "20  1595.00   243.81  11.648\n",
       "21  1631.70   230.03  12.083\n",
       "22  1669.60   216.54  12.371\n",
       "23  1730.40   193.32  12.455\n",
       "24  1762.90   180.86  12.483"
      ]
     },
     "execution_count": 352,
     "metadata": {},
     "output_type": "execute_result"
    }
   ],
   "source": [
    "one_row_bolts"
   ]
  },
  {
   "cell_type": "code",
   "execution_count": 353,
   "metadata": {},
   "outputs": [],
   "source": [
    "radius = bolt_holes_info['radius'].mean()"
   ]
  },
  {
   "cell_type": "code",
   "execution_count": 354,
   "metadata": {},
   "outputs": [
    {
     "data": {
      "text/plain": [
       "12.050360000000001"
      ]
     },
     "execution_count": 354,
     "metadata": {},
     "output_type": "execute_result"
    }
   ],
   "source": [
    "radius"
   ]
  },
  {
   "cell_type": "code",
   "execution_count": 355,
   "metadata": {},
   "outputs": [],
   "source": [
    "import matplotlib.pyplot as plt\n",
    "import cv2"
   ]
  },
  {
   "cell_type": "code",
   "execution_count": 356,
   "metadata": {},
   "outputs": [],
   "source": [
    "img = np.zeros((2000, 2000, 3), np.uint8)"
   ]
  },
  {
   "cell_type": "code",
   "execution_count": 357,
   "metadata": {},
   "outputs": [],
   "source": [
    "for i in range(len(one_row_bolts)):\n",
    "    centerX = int(one_row_bolts['centerX'].iloc[i])\n",
    "    centerY = int(one_row_bolts['centerY'].iloc[i])\n",
    "    radius = int(radius)\n",
    "    \n",
    "    img = cv2.circle(img, (centerX, centerY), radius, (255, 255, 0), 3)\n",
    "    "
   ]
  },
  {
   "cell_type": "code",
   "execution_count": 358,
   "metadata": {},
   "outputs": [
    {
     "data": {
      "image/png": "[encoded data removed]",
      "text/plain": [
       "<Figure size 640x480 with 1 Axes>"
      ]
     },
     "metadata": {},
     "output_type": "display_data"
    }
   ],
   "source": [
    "plt.imshow(img)\n",
    "plt.show()"
   ]
  },
  {
   "cell_type": "code",
   "execution_count": 359,
   "metadata": {},
   "outputs": [
    {
     "name": "stdout",
     "output_type": "stream",
     "text": [
      "Requirement already satisfied: shapely in /Users/enfycius/miniconda3/lib/python3.10/site-packages (2.0.2)\n",
      "Requirement already satisfied: numpy>=1.14 in /Users/enfycius/miniconda3/lib/python3.10/site-packages (from shapely) (1.24.3)\n"
     ]
    }
   ],
   "source": [
    "!pip3 install shapely"
   ]
  },
  {
   "cell_type": "code",
   "execution_count": 360,
   "metadata": {},
   "outputs": [],
   "source": [
    "from shapely.geometry import LineString\n",
    "from shapely.geometry import Point"
   ]
  },
  {
   "cell_type": "code",
   "execution_count": 361,
   "metadata": {},
   "outputs": [],
   "source": [
    "x1 = one_row_bolts['centerX'].iloc[0]\n",
    "y1 = one_row_bolts['centerY'].iloc[0]"
   ]
  },
  {
   "cell_type": "code",
   "execution_count": 362,
   "metadata": {},
   "outputs": [],
   "source": [
    "x2 = one_row_bolts['centerX'].iloc[-1]\n",
    "y2 = one_row_bolts['centerY'].iloc[-1]"
   ]
  },
  {
   "cell_type": "code",
   "execution_count": 363,
   "metadata": {},
   "outputs": [],
   "source": [
    "line = LineString([(x1, y1), (x2, y2)])"
   ]
  },
  {
   "cell_type": "code",
   "execution_count": 364,
   "metadata": {},
   "outputs": [],
   "source": [
    "p1 = Point(x1, y1)"
   ]
  },
  {
   "cell_type": "code",
   "execution_count": 365,
   "metadata": {},
   "outputs": [],
   "source": [
    "c1 = p1.buffer(radius).boundary"
   ]
  },
  {
   "cell_type": "code",
   "execution_count": 366,
   "metadata": {},
   "outputs": [],
   "source": [
    "i = c1.intersection(line)"
   ]
  },
  {
   "cell_type": "code",
   "execution_count": 367,
   "metadata": {},
   "outputs": [
    {
     "data": {
      "text/plain": [
       "2"
      ]
     },
     "execution_count": 367,
     "metadata": {},
     "output_type": "execute_result"
    }
   ],
   "source": [
    "len(i.xy)"
   ]
  },
  {
   "cell_type": "code",
   "execution_count": 368,
   "metadata": {},
   "outputs": [],
   "source": [
    "found_x = int(i.xy[0][0])"
   ]
  },
  {
   "cell_type": "code",
   "execution_count": 369,
   "metadata": {},
   "outputs": [],
   "source": [
    "found_y = int(i.xy[1][0])"
   ]
  },
  {
   "cell_type": "code",
   "execution_count": 370,
   "metadata": {},
   "outputs": [],
   "source": [
    "img = cv2.circle(img, (found_x, found_y), 1, (255, 0, 0), 3)"
   ]
  },
  {
   "cell_type": "code",
   "execution_count": 371,
   "metadata": {},
   "outputs": [
    {
     "data": {
      "image/png": "[encoded data removed]",
      "text/plain": [
       "<Figure size 640x480 with 1 Axes>"
      ]
     },
     "metadata": {},
     "output_type": "display_data"
    }
   ],
   "source": [
    "plt.imshow(img)\n",
    "plt.xlim(500, 800)\n",
    "plt.ylim(250, 500)\n",
    "plt.show()"
   ]
  },
  {
   "cell_type": "code",
   "execution_count": 372,
   "metadata": {},
   "outputs": [],
   "source": [
    "img = np.zeros((2000, 2000, 3), np.uint8)"
   ]
  },
  {
   "cell_type": "code",
   "execution_count": 373,
   "metadata": {},
   "outputs": [],
   "source": [
    "for i in range(len(bolt_holes_info)):\n",
    "    centerX = int(bolt_holes_info['centerX'].iloc[i])\n",
    "    centerY = int(bolt_holes_info['centerY'].iloc[i])\n",
    "    radius = int(radius)\n",
    "    \n",
    "    img = cv2.circle(img, (centerX, centerY), radius, (255, 255, 255), 3)"
   ]
  },
  {
   "cell_type": "code",
   "execution_count": 374,
   "metadata": {},
   "outputs": [],
   "source": [
    "found_x1_x_l = []\n",
    "found_y1_x_l = []\n",
    "\n",
    "found_x2_x_l = []\n",
    "found_y2_x_l = []"
   ]
  },
  {
   "cell_type": "code",
   "execution_count": 375,
   "metadata": {},
   "outputs": [],
   "source": [
    "found_x1_y_l = []\n",
    "found_y1_y_l = []\n",
    "\n",
    "found_x2_y_l = []\n",
    "found_y2_y_l = []"
   ]
  },
  {
   "cell_type": "code",
   "execution_count": 376,
   "metadata": {},
   "outputs": [
    {
     "data": {
      "text/html": [
       "<div>\n",
       "<style scoped>\n",
       "    .dataframe tbody tr th:only-of-type {\n",
       "        vertical-align: middle;\n",
       "    }\n",
       "\n",
       "    .dataframe tbody tr th {\n",
       "        vertical-align: top;\n",
       "    }\n",
       "\n",
       "    .dataframe thead th {\n",
       "        text-align: right;\n",
       "    }\n",
       "</style>\n",
       "<table border=\"1\" class=\"dataframe\">\n",
       "  <thead>\n",
       "    <tr style=\"text-align: right;\">\n",
       "      <th></th>\n",
       "      <th>centerX</th>\n",
       "      <th>centerY</th>\n",
       "      <th>radius</th>\n",
       "    </tr>\n",
       "  </thead>\n",
       "  <tbody>\n",
       "    <tr>\n",
       "      <th>0</th>\n",
       "      <td>654.52</td>\n",
       "      <td>592.76</td>\n",
       "      <td>11.920</td>\n",
       "    </tr>\n",
       "    <tr>\n",
       "      <th>1</th>\n",
       "      <td>695.99</td>\n",
       "      <td>577.47</td>\n",
       "      <td>13.069</td>\n",
       "    </tr>\n",
       "    <tr>\n",
       "      <th>2</th>\n",
       "      <td>771.97</td>\n",
       "      <td>549.48</td>\n",
       "      <td>12.475</td>\n",
       "    </tr>\n",
       "    <tr>\n",
       "      <th>3</th>\n",
       "      <td>816.54</td>\n",
       "      <td>532.59</td>\n",
       "      <td>12.953</td>\n",
       "    </tr>\n",
       "    <tr>\n",
       "      <th>4</th>\n",
       "      <td>861.12</td>\n",
       "      <td>516.34</td>\n",
       "      <td>12.026</td>\n",
       "    </tr>\n",
       "    <tr>\n",
       "      <th>...</th>\n",
       "      <td>...</td>\n",
       "      <td>...</td>\n",
       "      <td>...</td>\n",
       "    </tr>\n",
       "    <tr>\n",
       "      <th>70</th>\n",
       "      <td>1625.90</td>\n",
       "      <td>323.87</td>\n",
       "      <td>12.715</td>\n",
       "    </tr>\n",
       "    <tr>\n",
       "      <th>71</th>\n",
       "      <td>1662.60</td>\n",
       "      <td>309.70</td>\n",
       "      <td>12.007</td>\n",
       "    </tr>\n",
       "    <tr>\n",
       "      <th>72</th>\n",
       "      <td>1700.70</td>\n",
       "      <td>295.31</td>\n",
       "      <td>11.782</td>\n",
       "    </tr>\n",
       "    <tr>\n",
       "      <th>73</th>\n",
       "      <td>1760.80</td>\n",
       "      <td>271.84</td>\n",
       "      <td>10.851</td>\n",
       "    </tr>\n",
       "    <tr>\n",
       "      <th>74</th>\n",
       "      <td>1792.50</td>\n",
       "      <td>259.39</td>\n",
       "      <td>10.818</td>\n",
       "    </tr>\n",
       "  </tbody>\n",
       "</table>\n",
       "<p>75 rows × 3 columns</p>\n",
       "</div>"
      ],
      "text/plain": [
       "    centerX  centerY  radius\n",
       "0    654.52   592.76  11.920\n",
       "1    695.99   577.47  13.069\n",
       "2    771.97   549.48  12.475\n",
       "3    816.54   532.59  12.953\n",
       "4    861.12   516.34  12.026\n",
       "..      ...      ...     ...\n",
       "70  1625.90   323.87  12.715\n",
       "71  1662.60   309.70  12.007\n",
       "72  1700.70   295.31  11.782\n",
       "73  1760.80   271.84  10.851\n",
       "74  1792.50   259.39  10.818\n",
       "\n",
       "[75 rows x 3 columns]"
      ]
     },
     "execution_count": 376,
     "metadata": {},
     "output_type": "execute_result"
    }
   ],
   "source": [
    "bolt_holes_info"
   ]
  },
  {
   "cell_type": "code",
   "execution_count": 377,
   "metadata": {},
   "outputs": [],
   "source": [
    "for i in range(0, len(bolt_holes_info) // 25):\n",
    "    for j in range(0 + (len(bolt_holes_info) // 3 * i), len(bolt_holes_info) // 3 * (i + 1) - 1):    \n",
    "        x1 = bolt_holes_info['centerX'].iloc[j]\n",
    "        y1 = bolt_holes_info['centerY'].iloc[j]\n",
    "\n",
    "        x2 = bolt_holes_info['centerX'].iloc[j + 1]\n",
    "        y2 = bolt_holes_info['centerY'].iloc[j + 1]\n",
    "        \n",
    "        p1 = Point(x1, y1)\n",
    "        p2 = Point(x2, y2)\n",
    "        \n",
    "        c1 = p1.buffer(radius).boundary\n",
    "        c2 = p2.buffer(radius).boundary\n",
    "\n",
    "        line = LineString([(x1, y1), (x2, y2)])\n",
    "\n",
    "        i1 = c1.intersection(line)\n",
    "        i2 = c2.intersection(line)\n",
    "\n",
    "        found_x1_x = int(i1.xy[0][0])\n",
    "        found_y1_x = int(i1.xy[1][0])\n",
    "\n",
    "        found_x1_x_l.append(found_x1_x)\n",
    "        found_y1_x_l.append(found_y1_x)\n",
    "\n",
    "        found_x2_x = int(i2.xy[0][0])\n",
    "        found_y2_x = int(i2.xy[1][0])\n",
    "\n",
    "        found_x2_x_l.append(found_x2_x)\n",
    "        found_y2_x_l.append(found_y2_x)\n",
    "\n",
    "        img = cv2.circle(img, (found_x1_x, found_y1_x), 2, (0, 255, 0), 3)\n",
    "        img = cv2.circle(img, (found_x2_x, found_y2_x), 2, (255, 0, 0), 3)    "
   ]
  },
  {
   "cell_type": "code",
   "execution_count": 378,
   "metadata": {},
   "outputs": [],
   "source": [
    "for i in range(0, len(bolt_holes_info) // 25 - 1):\n",
    "    for j in range(0, len(bolt_holes_info) // 3):    \n",
    "        x1 = bolt_holes_info['centerX'].iloc[j + (len(bolt_holes_info) // 3 * i)]\n",
    "        y1 = bolt_holes_info['centerY'].iloc[j + (len(bolt_holes_info) // 3 * i)]\n",
    "\n",
    "        x2 = bolt_holes_info['centerX'].iloc[j + (len(bolt_holes_info) // 3 * (i + 1))]\n",
    "        y2 = bolt_holes_info['centerY'].iloc[j + (len(bolt_holes_info) // 3 * (i + 1))]\n",
    "        \n",
    "        p1 = Point(x1, y1)\n",
    "        p2 = Point(x2, y2)\n",
    "        \n",
    "        c1 = p1.buffer(radius).boundary\n",
    "        c2 = p2.buffer(radius).boundary\n",
    "\n",
    "        line = LineString([(x1, y1), (x2, y2)])\n",
    "\n",
    "        i1 = c1.intersection(line)\n",
    "        i2 = c2.intersection(line)\n",
    "\n",
    "        found_x1_y = int(i1.xy[0][0])\n",
    "        found_y1_y = int(i1.xy[1][0])\n",
    "\n",
    "        found_x1_y_l.append(found_x1_y)\n",
    "        found_y1_y_l.append(found_y1_y)\n",
    "\n",
    "        found_x2_y = int(i2.xy[0][0])\n",
    "        found_y2_y = int(i2.xy[1][0])\n",
    "\n",
    "        found_x2_y_l.append(found_x2_y)\n",
    "        found_y2_y_l.append(found_y2_y)\n",
    "\n",
    "        img = cv2.circle(img, (found_x1_y, found_y1_y), 2, (0, 255, 0), 3)\n",
    "        img = cv2.circle(img, (found_x2_y, found_y2_y), 2, (255, 0, 0), 3)    "
   ]
  },
  {
   "cell_type": "code",
   "execution_count": 379,
   "metadata": {},
   "outputs": [
    {
     "data": {
      "image/png": "[encoded data removed]",
      "text/plain": [
       "<Figure size 640x480 with 1 Axes>"
      ]
     },
     "metadata": {},
     "output_type": "display_data"
    }
   ],
   "source": [
    "plt.imshow(img)\n",
    "plt.xlim(500, 2000)\n",
    "plt.ylim(250, 750)\n",
    "plt.show()"
   ]
  },
  {
   "cell_type": "code",
   "execution_count": 380,
   "metadata": {},
   "outputs": [
    {
     "data": {
      "text/plain": [
       "72"
      ]
     },
     "execution_count": 380,
     "metadata": {},
     "output_type": "execute_result"
    }
   ],
   "source": [
    "len(found_x1_x_l)"
   ]
  },
  {
   "cell_type": "code",
   "execution_count": 381,
   "metadata": {},
   "outputs": [
    {
     "data": {
      "text/plain": [
       "50"
      ]
     },
     "execution_count": 381,
     "metadata": {},
     "output_type": "execute_result"
    }
   ],
   "source": [
    "len(found_x1_y_l)"
   ]
  },
  {
   "cell_type": "code",
   "execution_count": 382,
   "metadata": {},
   "outputs": [
    {
     "data": {
      "text/plain": [
       "72"
      ]
     },
     "execution_count": 382,
     "metadata": {},
     "output_type": "execute_result"
    }
   ],
   "source": [
    "len(found_x2_x_l)"
   ]
  },
  {
   "cell_type": "code",
   "execution_count": 383,
   "metadata": {},
   "outputs": [
    {
     "data": {
      "text/plain": [
       "50"
      ]
     },
     "execution_count": 383,
     "metadata": {},
     "output_type": "execute_result"
    }
   ],
   "source": [
    "len(found_x2_y_l)"
   ]
  },
  {
   "cell_type": "code",
   "execution_count": 384,
   "metadata": {},
   "outputs": [],
   "source": [
    "found_x_coordinates = pd.DataFrame(columns = ['found_x1', 'found_y1', 'found_x2', 'found_y2'])\n",
    "found_y_coordinates = pd.DataFrame(columns = ['found_x1_y', 'found_y1_y', 'found_x2_y', 'found_y2_y'])"
   ]
  },
  {
   "cell_type": "code",
   "execution_count": 385,
   "metadata": {},
   "outputs": [],
   "source": [
    "found_x_coordinates['found_x1'] = found_x1_x_l\n",
    "found_x_coordinates['found_y1'] = found_y1_x_l\n",
    "\n",
    "found_y_coordinates['found_x1_y'] = found_x1_y_l\n",
    "found_y_coordinates['found_y1_y'] = found_y1_y_l\n",
    "\n",
    "found_x_coordinates['found_x2'] = found_x2_x_l\n",
    "found_x_coordinates['found_y2'] = found_y2_x_l\n",
    "\n",
    "found_y_coordinates['found_x2_y'] = found_x2_y_l\n",
    "found_y_coordinates['found_y2_y'] = found_y2_y_l"
   ]
  },
  {
   "cell_type": "code",
   "execution_count": 386,
   "metadata": {},
   "outputs": [
    {
     "data": {
      "text/html": [
       "<div>\n",
       "<style scoped>\n",
       "    .dataframe tbody tr th:only-of-type {\n",
       "        vertical-align: middle;\n",
       "    }\n",
       "\n",
       "    .dataframe tbody tr th {\n",
       "        vertical-align: top;\n",
       "    }\n",
       "\n",
       "    .dataframe thead th {\n",
       "        text-align: right;\n",
       "    }\n",
       "</style>\n",
       "<table border=\"1\" class=\"dataframe\">\n",
       "  <thead>\n",
       "    <tr style=\"text-align: right;\">\n",
       "      <th></th>\n",
       "      <th>found_x1</th>\n",
       "      <th>found_y1</th>\n",
       "      <th>found_x2</th>\n",
       "      <th>found_y2</th>\n",
       "    </tr>\n",
       "  </thead>\n",
       "  <tbody>\n",
       "    <tr>\n",
       "      <th>0</th>\n",
       "      <td>665</td>\n",
       "      <td>588</td>\n",
       "      <td>684</td>\n",
       "      <td>581</td>\n",
       "    </tr>\n",
       "    <tr>\n",
       "      <th>1</th>\n",
       "      <td>707</td>\n",
       "      <td>573</td>\n",
       "      <td>760</td>\n",
       "      <td>553</td>\n",
       "    </tr>\n",
       "    <tr>\n",
       "      <th>2</th>\n",
       "      <td>783</td>\n",
       "      <td>545</td>\n",
       "      <td>805</td>\n",
       "      <td>536</td>\n",
       "    </tr>\n",
       "    <tr>\n",
       "      <th>3</th>\n",
       "      <td>827</td>\n",
       "      <td>528</td>\n",
       "      <td>849</td>\n",
       "      <td>520</td>\n",
       "    </tr>\n",
       "    <tr>\n",
       "      <th>4</th>\n",
       "      <td>872</td>\n",
       "      <td>512</td>\n",
       "      <td>894</td>\n",
       "      <td>503</td>\n",
       "    </tr>\n",
       "    <tr>\n",
       "      <th>...</th>\n",
       "      <td>...</td>\n",
       "      <td>...</td>\n",
       "      <td>...</td>\n",
       "      <td>...</td>\n",
       "    </tr>\n",
       "    <tr>\n",
       "      <th>67</th>\n",
       "      <td>1599</td>\n",
       "      <td>333</td>\n",
       "      <td>1614</td>\n",
       "      <td>328</td>\n",
       "    </tr>\n",
       "    <tr>\n",
       "      <th>68</th>\n",
       "      <td>1637</td>\n",
       "      <td>319</td>\n",
       "      <td>1651</td>\n",
       "      <td>314</td>\n",
       "    </tr>\n",
       "    <tr>\n",
       "      <th>69</th>\n",
       "      <td>1673</td>\n",
       "      <td>305</td>\n",
       "      <td>1689</td>\n",
       "      <td>299</td>\n",
       "    </tr>\n",
       "    <tr>\n",
       "      <th>70</th>\n",
       "      <td>1711</td>\n",
       "      <td>290</td>\n",
       "      <td>1749</td>\n",
       "      <td>276</td>\n",
       "    </tr>\n",
       "    <tr>\n",
       "      <th>71</th>\n",
       "      <td>1771</td>\n",
       "      <td>267</td>\n",
       "      <td>1781</td>\n",
       "      <td>263</td>\n",
       "    </tr>\n",
       "  </tbody>\n",
       "</table>\n",
       "<p>72 rows × 4 columns</p>\n",
       "</div>"
      ],
      "text/plain": [
       "    found_x1  found_y1  found_x2  found_y2\n",
       "0        665       588       684       581\n",
       "1        707       573       760       553\n",
       "2        783       545       805       536\n",
       "3        827       528       849       520\n",
       "4        872       512       894       503\n",
       "..       ...       ...       ...       ...\n",
       "67      1599       333      1614       328\n",
       "68      1637       319      1651       314\n",
       "69      1673       305      1689       299\n",
       "70      1711       290      1749       276\n",
       "71      1771       267      1781       263\n",
       "\n",
       "[72 rows x 4 columns]"
      ]
     },
     "execution_count": 386,
     "metadata": {},
     "output_type": "execute_result"
    }
   ],
   "source": [
    "found_x_coordinates"
   ]
  },
  {
   "cell_type": "code",
   "execution_count": 387,
   "metadata": {},
   "outputs": [
    {
     "data": {
      "text/html": [
       "<div>\n",
       "<style scoped>\n",
       "    .dataframe tbody tr th:only-of-type {\n",
       "        vertical-align: middle;\n",
       "    }\n",
       "\n",
       "    .dataframe tbody tr th {\n",
       "        vertical-align: top;\n",
       "    }\n",
       "\n",
       "    .dataframe thead th {\n",
       "        text-align: right;\n",
       "    }\n",
       "</style>\n",
       "<table border=\"1\" class=\"dataframe\">\n",
       "  <thead>\n",
       "    <tr style=\"text-align: right;\">\n",
       "      <th></th>\n",
       "      <th>found_x1_y</th>\n",
       "      <th>found_y1_y</th>\n",
       "      <th>found_x2_y</th>\n",
       "      <th>found_y2_y</th>\n",
       "    </tr>\n",
       "  </thead>\n",
       "  <tbody>\n",
       "    <tr>\n",
       "      <th>0</th>\n",
       "      <td>658</td>\n",
       "      <td>603</td>\n",
       "      <td>667</td>\n",
       "      <td>626</td>\n",
       "    </tr>\n",
       "    <tr>\n",
       "      <th>1</th>\n",
       "      <td>700</td>\n",
       "      <td>588</td>\n",
       "      <td>709</td>\n",
       "      <td>610</td>\n",
       "    </tr>\n",
       "    <tr>\n",
       "      <th>2</th>\n",
       "      <td>776</td>\n",
       "      <td>560</td>\n",
       "      <td>784</td>\n",
       "      <td>582</td>\n",
       "    </tr>\n",
       "    <tr>\n",
       "      <th>3</th>\n",
       "      <td>820</td>\n",
       "      <td>543</td>\n",
       "      <td>829</td>\n",
       "      <td>565</td>\n",
       "    </tr>\n",
       "    <tr>\n",
       "      <th>4</th>\n",
       "      <td>865</td>\n",
       "      <td>527</td>\n",
       "      <td>873</td>\n",
       "      <td>548</td>\n",
       "    </tr>\n",
       "    <tr>\n",
       "      <th>5</th>\n",
       "      <td>909</td>\n",
       "      <td>510</td>\n",
       "      <td>917</td>\n",
       "      <td>531</td>\n",
       "    </tr>\n",
       "    <tr>\n",
       "      <th>6</th>\n",
       "      <td>952</td>\n",
       "      <td>494</td>\n",
       "      <td>961</td>\n",
       "      <td>514</td>\n",
       "    </tr>\n",
       "    <tr>\n",
       "      <th>7</th>\n",
       "      <td>1040</td>\n",
       "      <td>462</td>\n",
       "      <td>1048</td>\n",
       "      <td>482</td>\n",
       "    </tr>\n",
       "    <tr>\n",
       "      <th>8</th>\n",
       "      <td>1082</td>\n",
       "      <td>446</td>\n",
       "      <td>1090</td>\n",
       "      <td>466</td>\n",
       "    </tr>\n",
       "    <tr>\n",
       "      <th>9</th>\n",
       "      <td>1125</td>\n",
       "      <td>430</td>\n",
       "      <td>1132</td>\n",
       "      <td>450</td>\n",
       "    </tr>\n",
       "    <tr>\n",
       "      <th>10</th>\n",
       "      <td>1166</td>\n",
       "      <td>415</td>\n",
       "      <td>1174</td>\n",
       "      <td>434</td>\n",
       "    </tr>\n",
       "    <tr>\n",
       "      <th>11</th>\n",
       "      <td>1208</td>\n",
       "      <td>399</td>\n",
       "      <td>1215</td>\n",
       "      <td>419</td>\n",
       "    </tr>\n",
       "    <tr>\n",
       "      <th>12</th>\n",
       "      <td>1248</td>\n",
       "      <td>385</td>\n",
       "      <td>1256</td>\n",
       "      <td>404</td>\n",
       "    </tr>\n",
       "    <tr>\n",
       "      <th>13</th>\n",
       "      <td>1289</td>\n",
       "      <td>369</td>\n",
       "      <td>1296</td>\n",
       "      <td>389</td>\n",
       "    </tr>\n",
       "    <tr>\n",
       "      <th>14</th>\n",
       "      <td>1328</td>\n",
       "      <td>355</td>\n",
       "      <td>1336</td>\n",
       "      <td>374</td>\n",
       "    </tr>\n",
       "    <tr>\n",
       "      <th>15</th>\n",
       "      <td>1368</td>\n",
       "      <td>340</td>\n",
       "      <td>1375</td>\n",
       "      <td>359</td>\n",
       "    </tr>\n",
       "    <tr>\n",
       "      <th>16</th>\n",
       "      <td>1407</td>\n",
       "      <td>326</td>\n",
       "      <td>1414</td>\n",
       "      <td>344</td>\n",
       "    </tr>\n",
       "    <tr>\n",
       "      <th>17</th>\n",
       "      <td>1446</td>\n",
       "      <td>311</td>\n",
       "      <td>1453</td>\n",
       "      <td>329</td>\n",
       "    </tr>\n",
       "    <tr>\n",
       "      <th>18</th>\n",
       "      <td>1523</td>\n",
       "      <td>283</td>\n",
       "      <td>1530</td>\n",
       "      <td>300</td>\n",
       "    </tr>\n",
       "    <tr>\n",
       "      <th>19</th>\n",
       "      <td>1561</td>\n",
       "      <td>269</td>\n",
       "      <td>1568</td>\n",
       "      <td>286</td>\n",
       "    </tr>\n",
       "    <tr>\n",
       "      <th>20</th>\n",
       "      <td>1599</td>\n",
       "      <td>255</td>\n",
       "      <td>1605</td>\n",
       "      <td>272</td>\n",
       "    </tr>\n",
       "    <tr>\n",
       "      <th>21</th>\n",
       "      <td>1636</td>\n",
       "      <td>241</td>\n",
       "      <td>1642</td>\n",
       "      <td>258</td>\n",
       "    </tr>\n",
       "    <tr>\n",
       "      <th>22</th>\n",
       "      <td>1673</td>\n",
       "      <td>227</td>\n",
       "      <td>1680</td>\n",
       "      <td>244</td>\n",
       "    </tr>\n",
       "    <tr>\n",
       "      <th>23</th>\n",
       "      <td>1734</td>\n",
       "      <td>204</td>\n",
       "      <td>1741</td>\n",
       "      <td>220</td>\n",
       "    </tr>\n",
       "    <tr>\n",
       "      <th>24</th>\n",
       "      <td>1767</td>\n",
       "      <td>192</td>\n",
       "      <td>1773</td>\n",
       "      <td>208</td>\n",
       "    </tr>\n",
       "    <tr>\n",
       "      <th>25</th>\n",
       "      <td>675</td>\n",
       "      <td>649</td>\n",
       "      <td>683</td>\n",
       "      <td>671</td>\n",
       "    </tr>\n",
       "    <tr>\n",
       "      <th>26</th>\n",
       "      <td>717</td>\n",
       "      <td>632</td>\n",
       "      <td>725</td>\n",
       "      <td>655</td>\n",
       "    </tr>\n",
       "    <tr>\n",
       "      <th>27</th>\n",
       "      <td>793</td>\n",
       "      <td>604</td>\n",
       "      <td>802</td>\n",
       "      <td>626</td>\n",
       "    </tr>\n",
       "    <tr>\n",
       "      <th>28</th>\n",
       "      <td>838</td>\n",
       "      <td>587</td>\n",
       "      <td>846</td>\n",
       "      <td>609</td>\n",
       "    </tr>\n",
       "    <tr>\n",
       "      <th>29</th>\n",
       "      <td>882</td>\n",
       "      <td>570</td>\n",
       "      <td>890</td>\n",
       "      <td>592</td>\n",
       "    </tr>\n",
       "    <tr>\n",
       "      <th>30</th>\n",
       "      <td>926</td>\n",
       "      <td>553</td>\n",
       "      <td>934</td>\n",
       "      <td>575</td>\n",
       "    </tr>\n",
       "    <tr>\n",
       "      <th>31</th>\n",
       "      <td>969</td>\n",
       "      <td>537</td>\n",
       "      <td>978</td>\n",
       "      <td>558</td>\n",
       "    </tr>\n",
       "    <tr>\n",
       "      <th>32</th>\n",
       "      <td>1057</td>\n",
       "      <td>504</td>\n",
       "      <td>1065</td>\n",
       "      <td>525</td>\n",
       "    </tr>\n",
       "    <tr>\n",
       "      <th>33</th>\n",
       "      <td>1099</td>\n",
       "      <td>488</td>\n",
       "      <td>1108</td>\n",
       "      <td>508</td>\n",
       "    </tr>\n",
       "    <tr>\n",
       "      <th>34</th>\n",
       "      <td>1141</td>\n",
       "      <td>472</td>\n",
       "      <td>1149</td>\n",
       "      <td>493</td>\n",
       "    </tr>\n",
       "    <tr>\n",
       "      <th>35</th>\n",
       "      <td>1182</td>\n",
       "      <td>457</td>\n",
       "      <td>1191</td>\n",
       "      <td>477</td>\n",
       "    </tr>\n",
       "    <tr>\n",
       "      <th>36</th>\n",
       "      <td>1224</td>\n",
       "      <td>442</td>\n",
       "      <td>1232</td>\n",
       "      <td>462</td>\n",
       "    </tr>\n",
       "    <tr>\n",
       "      <th>37</th>\n",
       "      <td>1265</td>\n",
       "      <td>427</td>\n",
       "      <td>1273</td>\n",
       "      <td>446</td>\n",
       "    </tr>\n",
       "    <tr>\n",
       "      <th>38</th>\n",
       "      <td>1305</td>\n",
       "      <td>411</td>\n",
       "      <td>1313</td>\n",
       "      <td>431</td>\n",
       "    </tr>\n",
       "    <tr>\n",
       "      <th>39</th>\n",
       "      <td>1345</td>\n",
       "      <td>397</td>\n",
       "      <td>1352</td>\n",
       "      <td>416</td>\n",
       "    </tr>\n",
       "    <tr>\n",
       "      <th>40</th>\n",
       "      <td>1384</td>\n",
       "      <td>381</td>\n",
       "      <td>1391</td>\n",
       "      <td>401</td>\n",
       "    </tr>\n",
       "    <tr>\n",
       "      <th>41</th>\n",
       "      <td>1423</td>\n",
       "      <td>366</td>\n",
       "      <td>1430</td>\n",
       "      <td>385</td>\n",
       "    </tr>\n",
       "    <tr>\n",
       "      <th>42</th>\n",
       "      <td>1462</td>\n",
       "      <td>352</td>\n",
       "      <td>1469</td>\n",
       "      <td>371</td>\n",
       "    </tr>\n",
       "    <tr>\n",
       "      <th>43</th>\n",
       "      <td>1539</td>\n",
       "      <td>323</td>\n",
       "      <td>1546</td>\n",
       "      <td>341</td>\n",
       "    </tr>\n",
       "    <tr>\n",
       "      <th>44</th>\n",
       "      <td>1576</td>\n",
       "      <td>308</td>\n",
       "      <td>1583</td>\n",
       "      <td>326</td>\n",
       "    </tr>\n",
       "    <tr>\n",
       "      <th>45</th>\n",
       "      <td>1614</td>\n",
       "      <td>295</td>\n",
       "      <td>1621</td>\n",
       "      <td>312</td>\n",
       "    </tr>\n",
       "    <tr>\n",
       "      <th>46</th>\n",
       "      <td>1651</td>\n",
       "      <td>281</td>\n",
       "      <td>1658</td>\n",
       "      <td>298</td>\n",
       "    </tr>\n",
       "    <tr>\n",
       "      <th>47</th>\n",
       "      <td>1689</td>\n",
       "      <td>267</td>\n",
       "      <td>1696</td>\n",
       "      <td>284</td>\n",
       "    </tr>\n",
       "    <tr>\n",
       "      <th>48</th>\n",
       "      <td>1749</td>\n",
       "      <td>242</td>\n",
       "      <td>1756</td>\n",
       "      <td>260</td>\n",
       "    </tr>\n",
       "    <tr>\n",
       "      <th>49</th>\n",
       "      <td>1782</td>\n",
       "      <td>231</td>\n",
       "      <td>1788</td>\n",
       "      <td>248</td>\n",
       "    </tr>\n",
       "  </tbody>\n",
       "</table>\n",
       "</div>"
      ],
      "text/plain": [
       "    found_x1_y  found_y1_y  found_x2_y  found_y2_y\n",
       "0          658         603         667         626\n",
       "1          700         588         709         610\n",
       "2          776         560         784         582\n",
       "3          820         543         829         565\n",
       "4          865         527         873         548\n",
       "5          909         510         917         531\n",
       "6          952         494         961         514\n",
       "7         1040         462        1048         482\n",
       "8         1082         446        1090         466\n",
       "9         1125         430        1132         450\n",
       "10        1166         415        1174         434\n",
       "11        1208         399        1215         419\n",
       "12        1248         385        1256         404\n",
       "13        1289         369        1296         389\n",
       "14        1328         355        1336         374\n",
       "15        1368         340        1375         359\n",
       "16        1407         326        1414         344\n",
       "17        1446         311        1453         329\n",
       "18        1523         283        1530         300\n",
       "19        1561         269        1568         286\n",
       "20        1599         255        1605         272\n",
       "21        1636         241        1642         258\n",
       "22        1673         227        1680         244\n",
       "23        1734         204        1741         220\n",
       "24        1767         192        1773         208\n",
       "25         675         649         683         671\n",
       "26         717         632         725         655\n",
       "27         793         604         802         626\n",
       "28         838         587         846         609\n",
       "29         882         570         890         592\n",
       "30         926         553         934         575\n",
       "31         969         537         978         558\n",
       "32        1057         504        1065         525\n",
       "33        1099         488        1108         508\n",
       "34        1141         472        1149         493\n",
       "35        1182         457        1191         477\n",
       "36        1224         442        1232         462\n",
       "37        1265         427        1273         446\n",
       "38        1305         411        1313         431\n",
       "39        1345         397        1352         416\n",
       "40        1384         381        1391         401\n",
       "41        1423         366        1430         385\n",
       "42        1462         352        1469         371\n",
       "43        1539         323        1546         341\n",
       "44        1576         308        1583         326\n",
       "45        1614         295        1621         312\n",
       "46        1651         281        1658         298\n",
       "47        1689         267        1696         284\n",
       "48        1749         242        1756         260\n",
       "49        1782         231        1788         248"
      ]
     },
     "execution_count": 387,
     "metadata": {},
     "output_type": "execute_result"
    }
   ],
   "source": [
    "found_y_coordinates"
   ]
  },
  {
   "cell_type": "code",
   "execution_count": 388,
   "metadata": {},
   "outputs": [],
   "source": [
    "found_x_coordinates.to_csv(\"./found_x_coordinates.csv\")\n",
    "found_y_coordinates.to_csv(\"./found_y_coordinates.csv\")"
   ]
  }
 ],
 "metadata": {
  "kernelspec": {
   "display_name": "BASE",
   "language": "python",
   "name": "base"
  },
  "language_info": {
   "codemirror_mode": {
    "name": "ipython",
    "version": 3
   },
   "file_extension": ".py",
   "mimetype": "text/x-python",
   "name": "python",
   "nbconvert_exporter": "python",
   "pygments_lexer": "ipython3",
   "version": "3.10.10"
  },
  "orig_nbformat": 4
 },
 "nbformat": 4,
 "nbformat_minor": 2
}
